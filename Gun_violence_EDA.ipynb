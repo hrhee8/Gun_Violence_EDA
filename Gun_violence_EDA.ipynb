{
 "cells": [
  {
   "attachments": {},
   "cell_type": "markdown",
   "metadata": {},
   "source": [
    "Gun Violence EDA\n",
    "#sqlite3\n",
    "#python\n"
   ]
  },
  {
   "cell_type": "code",
   "execution_count": 4,
   "metadata": {},
   "outputs": [
    {
     "name": "stdout",
     "output_type": "stream",
     "text": [
      "/Users/hyunjoonrhee/GitHub/Practice/data/gun_violence_archive\n"
     ]
    }
   ],
   "source": [
    "#Read data\n",
    "import os\n",
    "import pandas as pd\n",
    "cwd = os.getcwd()\n",
    "gun_dir = os.path.join(cwd,'data','gun_violence_archive')\n",
    "print(gun_dir)"
   ]
  },
  {
   "cell_type": "code",
   "execution_count": 3,
   "metadata": {},
   "outputs": [
    {
     "name": "stdout",
     "output_type": "stream",
     "text": [
      "/Users/hyunjoonrhee/GitHub/Practice/data/gun_violence_archive\n"
     ]
    }
   ],
   "source": [
    "all_cases = pd.read_csv(os.path.join(gun_dir,'all_incidents.csv'))\n",
    "mass_cases = pd.read_csv(os.path.join(gun_dir,'mass_shootings.csv'))\n",
    "cases_2018 = pd.read_csv(os.path.join(gun_dir,'gun-violence-data_01-2013_03-2018.csv'))"
   ]
  },
  {
   "cell_type": "code",
   "execution_count": 47,
   "metadata": {},
   "outputs": [
    {
     "data": {
      "text/plain": [
       "Index(['incident_id', 'date', 'state', 'city_or_county', 'address', 'n_killed',\n",
       "       'n_injured', 'incident_url', 'source_url',\n",
       "       'incident_url_fields_missing', 'congressional_district', 'gun_stolen',\n",
       "       'gun_type', 'incident_characteristics', 'latitude',\n",
       "       'location_description', 'longitude', 'n_guns_involved', 'notes',\n",
       "       'participant_age', 'participant_age_group', 'participant_gender',\n",
       "       'participant_name', 'participant_relationship', 'participant_status',\n",
       "       'participant_type', 'sources', 'state_house_district',\n",
       "       'state_senate_district'],\n",
       "      dtype='object')"
      ]
     },
     "execution_count": 47,
     "metadata": {},
     "output_type": "execute_result"
    }
   ],
   "source": [
    "#print column methods using list & keys\n",
    "#print(list(guns))\n",
    "cases_2018.keys()"
   ]
  },
  {
   "cell_type": "code",
   "execution_count": 15,
   "metadata": {},
   "outputs": [
    {
     "name": "stdout",
     "output_type": "stream",
     "text": [
      "['incident_id', 'date', 'state', 'city', 'address', 'n_killed', 'n_injured']\n",
      "['Incident ID', 'Incident Date', 'State', 'City Or County', 'Address', '# Killed', '# Injured']\n"
     ]
    }
   ],
   "source": [
    "print(list(all_cases))\n",
    "print(list(mass_cases))"
   ]
  },
  {
   "cell_type": "code",
   "execution_count": 116,
   "metadata": {},
   "outputs": [],
   "source": [
    "mass_cases['Incident Date'] = pd.to_datetime(mass_cases['Incident Date']).dt.strftime('%Y-%m-%d')"
   ]
  },
  {
   "cell_type": "code",
   "execution_count": 43,
   "metadata": {},
   "outputs": [
    {
     "name": "stdout",
     "output_type": "stream",
     "text": [
      "Number of Mass Shootings :  3609\n",
      "Number of duplicate ids of mass_shootings and all_incidents table : 3609\n",
      "This indicates that all mass shootings are included in the all_incidents table\n"
     ]
    }
   ],
   "source": [
    "print('Number of Mass Shootings :  ' + str(len(mass_cases)))\n",
    "\n",
    "# Check for duplicate id_numbers\n",
    "duplicate_id_numbers = all_cases[all_cases['incident_id'].isin(mass_cases['Incident ID'])]\n",
    "\n",
    "# Print the duplicate id_numbers \n",
    "print('Number of duplicate ids of mass_shootings and all_incidents table : ' + str(len(duplicate_id_numbers['incident_id'])))\n",
    "print('This indicates that all mass shootings are included in the all_incidents table')\n",
    "\n"
   ]
  },
  {
   "cell_type": "code",
   "execution_count": 41,
   "metadata": {},
   "outputs": [
    {
     "data": {
      "text/plain": [
       "True"
      ]
     },
     "execution_count": 41,
     "metadata": {},
     "output_type": "execute_result"
    }
   ],
   "source": [
    "#open url\n",
    "import webbrowser\n",
    "webbrowser.open(guns.loc[1,'source_url'])"
   ]
  },
  {
   "cell_type": "code",
   "execution_count": 5,
   "metadata": {},
   "outputs": [
    {
     "name": "stdout",
     "output_type": "stream",
     "text": [
      "Connected to the database! To close connection use .close()\n"
     ]
    }
   ],
   "source": [
    "import sqlite3\n",
    "con = sqlite3.connect(os.path.join(gun_dir,'gfg.db'))\n",
    "cursor = con.cursor()\n",
    "print('Connected to the database!' + ' To close connection use .close()')\n",
    "\n",
    "#sqliteconnection.close()\n",
    "#--> to close connection"
   ]
  },
  {
   "cell_type": "code",
   "execution_count": 130,
   "metadata": {},
   "outputs": [
    {
     "data": {
      "text/plain": [
       "['Arkansas',\n",
       " 'Colorado',\n",
       " 'Missouri',\n",
       " 'South Carolina',\n",
       " 'California',\n",
       " 'Kentucky',\n",
       " 'Louisiana',\n",
       " 'Georgia',\n",
       " 'Utah',\n",
       " 'Illinois',\n",
       " 'Connecticut',\n",
       " 'Ohio',\n",
       " 'Pennsylvania',\n",
       " 'New York',\n",
       " 'Nebraska',\n",
       " 'Indiana',\n",
       " 'Texas',\n",
       " 'Virginia',\n",
       " 'Maryland',\n",
       " 'North Carolina',\n",
       " 'Arizona',\n",
       " 'West Virginia',\n",
       " 'Oregon',\n",
       " 'Wyoming',\n",
       " 'Rhode Island',\n",
       " 'Kansas',\n",
       " 'Florida',\n",
       " 'Montana',\n",
       " 'Minnesota',\n",
       " 'Alabama',\n",
       " 'Iowa',\n",
       " 'Alaska',\n",
       " 'Wisconsin',\n",
       " 'Tennessee',\n",
       " 'Michigan',\n",
       " 'Hawaii',\n",
       " 'Mississippi',\n",
       " 'Massachusetts',\n",
       " 'Washington',\n",
       " 'Nevada',\n",
       " 'Oklahoma',\n",
       " 'District of Columbia',\n",
       " 'New Jersey',\n",
       " 'Idaho',\n",
       " 'New Mexico',\n",
       " 'Delaware',\n",
       " 'Maine',\n",
       " 'Vermont',\n",
       " 'North Dakota',\n",
       " 'New Hampshire',\n",
       " 'South Dakota']"
      ]
     },
     "execution_count": 130,
     "metadata": {},
     "output_type": "execute_result"
    }
   ],
   "source": [
    "list(all_cases['state'].unique())"
   ]
  },
  {
   "cell_type": "code",
   "execution_count": 121,
   "metadata": {},
   "outputs": [
    {
     "data": {
      "text/plain": [
       "3609"
      ]
     },
     "execution_count": 121,
     "metadata": {},
     "output_type": "execute_result"
    }
   ],
   "source": [
    "#import csv to sql\n",
    "all_cases.to_sql('all_incidents',con)\n",
    "mass_cases.to_sql('mass_shootings',con)"
   ]
  },
  {
   "cell_type": "code",
   "execution_count": 64,
   "metadata": {},
   "outputs": [
    {
     "data": {
      "text/html": [
       "<div>\n",
       "<style scoped>\n",
       "    .dataframe tbody tr th:only-of-type {\n",
       "        vertical-align: middle;\n",
       "    }\n",
       "\n",
       "    .dataframe tbody tr th {\n",
       "        vertical-align: top;\n",
       "    }\n",
       "\n",
       "    .dataframe thead th {\n",
       "        text-align: right;\n",
       "    }\n",
       "</style>\n",
       "<table border=\"1\" class=\"dataframe\">\n",
       "  <thead>\n",
       "    <tr style=\"text-align: right;\">\n",
       "      <th></th>\n",
       "      <th>index</th>\n",
       "      <th>incident_id</th>\n",
       "      <th>date</th>\n",
       "      <th>state</th>\n",
       "      <th>city</th>\n",
       "      <th>address</th>\n",
       "      <th>n_killed</th>\n",
       "      <th>n_injured</th>\n",
       "    </tr>\n",
       "  </thead>\n",
       "  <tbody>\n",
       "    <tr>\n",
       "      <th>0</th>\n",
       "      <td>0</td>\n",
       "      <td>2314858</td>\n",
       "      <td>2022-05-28</td>\n",
       "      <td>Arkansas</td>\n",
       "      <td>Little Rock</td>\n",
       "      <td>W 9th St and Broadway St</td>\n",
       "      <td>0</td>\n",
       "      <td>1</td>\n",
       "    </tr>\n",
       "    <tr>\n",
       "      <th>1</th>\n",
       "      <td>1</td>\n",
       "      <td>2314409</td>\n",
       "      <td>2022-05-28</td>\n",
       "      <td>Colorado</td>\n",
       "      <td>Denver</td>\n",
       "      <td>3300 block of Clay St</td>\n",
       "      <td>0</td>\n",
       "      <td>1</td>\n",
       "    </tr>\n",
       "    <tr>\n",
       "      <th>2</th>\n",
       "      <td>2</td>\n",
       "      <td>2314498</td>\n",
       "      <td>2022-05-28</td>\n",
       "      <td>Missouri</td>\n",
       "      <td>Saint Louis</td>\n",
       "      <td>Page Blvd and Vandeventer Ave</td>\n",
       "      <td>0</td>\n",
       "      <td>1</td>\n",
       "    </tr>\n",
       "    <tr>\n",
       "      <th>3</th>\n",
       "      <td>3</td>\n",
       "      <td>2314485</td>\n",
       "      <td>2022-05-28</td>\n",
       "      <td>South Carolina</td>\n",
       "      <td>Florence</td>\n",
       "      <td>Old River Rd</td>\n",
       "      <td>0</td>\n",
       "      <td>2</td>\n",
       "    </tr>\n",
       "    <tr>\n",
       "      <th>4</th>\n",
       "      <td>4</td>\n",
       "      <td>2314483</td>\n",
       "      <td>2022-05-28</td>\n",
       "      <td>California</td>\n",
       "      <td>Carmichael</td>\n",
       "      <td>4400 block of Manzanita Ave</td>\n",
       "      <td>1</td>\n",
       "      <td>0</td>\n",
       "    </tr>\n",
       "    <tr>\n",
       "      <th>...</th>\n",
       "      <td>...</td>\n",
       "      <td>...</td>\n",
       "      <td>...</td>\n",
       "      <td>...</td>\n",
       "      <td>...</td>\n",
       "      <td>...</td>\n",
       "      <td>...</td>\n",
       "      <td>...</td>\n",
       "    </tr>\n",
       "    <tr>\n",
       "      <th>472815</th>\n",
       "      <td>472815</td>\n",
       "      <td>478959</td>\n",
       "      <td>2013-01-07</td>\n",
       "      <td>North Carolina</td>\n",
       "      <td>Greensboro</td>\n",
       "      <td>307 Mourning Dove Terrace</td>\n",
       "      <td>2</td>\n",
       "      <td>2</td>\n",
       "    </tr>\n",
       "    <tr>\n",
       "      <th>472816</th>\n",
       "      <td>472816</td>\n",
       "      <td>478925</td>\n",
       "      <td>2013-01-05</td>\n",
       "      <td>Colorado</td>\n",
       "      <td>Aurora</td>\n",
       "      <td>16000 block of East Ithaca Place</td>\n",
       "      <td>4</td>\n",
       "      <td>0</td>\n",
       "    </tr>\n",
       "    <tr>\n",
       "      <th>472817</th>\n",
       "      <td>472817</td>\n",
       "      <td>478855</td>\n",
       "      <td>2013-01-01</td>\n",
       "      <td>Ohio</td>\n",
       "      <td>Lorain</td>\n",
       "      <td>1776 East 28th Street</td>\n",
       "      <td>1</td>\n",
       "      <td>3</td>\n",
       "    </tr>\n",
       "    <tr>\n",
       "      <th>472818</th>\n",
       "      <td>472818</td>\n",
       "      <td>460726</td>\n",
       "      <td>2013-01-01</td>\n",
       "      <td>California</td>\n",
       "      <td>Hawthorne</td>\n",
       "      <td>13500 block of Cerise Avenue</td>\n",
       "      <td>1</td>\n",
       "      <td>3</td>\n",
       "    </tr>\n",
       "    <tr>\n",
       "      <th>472819</th>\n",
       "      <td>472819</td>\n",
       "      <td>461105</td>\n",
       "      <td>2013-01-01</td>\n",
       "      <td>Pennsylvania</td>\n",
       "      <td>Mckeesport</td>\n",
       "      <td>1506 Versailles Avenue and Coursin Street</td>\n",
       "      <td>0</td>\n",
       "      <td>4</td>\n",
       "    </tr>\n",
       "  </tbody>\n",
       "</table>\n",
       "<p>472820 rows × 8 columns</p>\n",
       "</div>"
      ],
      "text/plain": [
       "         index  incident_id        date           state         city  \\\n",
       "0            0      2314858  2022-05-28        Arkansas  Little Rock   \n",
       "1            1      2314409  2022-05-28        Colorado       Denver   \n",
       "2            2      2314498  2022-05-28        Missouri  Saint Louis   \n",
       "3            3      2314485  2022-05-28  South Carolina     Florence   \n",
       "4            4      2314483  2022-05-28      California   Carmichael   \n",
       "...        ...          ...         ...             ...          ...   \n",
       "472815  472815       478959  2013-01-07  North Carolina   Greensboro   \n",
       "472816  472816       478925  2013-01-05        Colorado       Aurora   \n",
       "472817  472817       478855  2013-01-01            Ohio       Lorain   \n",
       "472818  472818       460726  2013-01-01      California    Hawthorne   \n",
       "472819  472819       461105  2013-01-01    Pennsylvania   Mckeesport   \n",
       "\n",
       "                                          address  n_killed  n_injured  \n",
       "0                        W 9th St and Broadway St         0          1  \n",
       "1                           3300 block of Clay St         0          1  \n",
       "2                   Page Blvd and Vandeventer Ave         0          1  \n",
       "3                                    Old River Rd         0          2  \n",
       "4                     4400 block of Manzanita Ave         1          0  \n",
       "...                                           ...       ...        ...  \n",
       "472815                  307 Mourning Dove Terrace         2          2  \n",
       "472816           16000 block of East Ithaca Place         4          0  \n",
       "472817                      1776 East 28th Street         1          3  \n",
       "472818               13500 block of Cerise Avenue         1          3  \n",
       "472819  1506 Versailles Avenue and Coursin Street         0          4  \n",
       "\n",
       "[472820 rows x 8 columns]"
      ]
     },
     "execution_count": 64,
     "metadata": {},
     "output_type": "execute_result"
    }
   ],
   "source": [
    "pd.read_sql_query(\"SELECT * FROM all_incidents\", con)"
   ]
  },
  {
   "cell_type": "code",
   "execution_count": 68,
   "metadata": {},
   "outputs": [
    {
     "data": {
      "text/html": [
       "<div>\n",
       "<style scoped>\n",
       "    .dataframe tbody tr th:only-of-type {\n",
       "        vertical-align: middle;\n",
       "    }\n",
       "\n",
       "    .dataframe tbody tr th {\n",
       "        vertical-align: top;\n",
       "    }\n",
       "\n",
       "    .dataframe thead th {\n",
       "        text-align: right;\n",
       "    }\n",
       "</style>\n",
       "<table border=\"1\" class=\"dataframe\">\n",
       "  <thead>\n",
       "    <tr style=\"text-align: right;\">\n",
       "      <th></th>\n",
       "      <th>index</th>\n",
       "      <th>Incident ID</th>\n",
       "      <th>Incident Date</th>\n",
       "      <th>State</th>\n",
       "      <th>City Or County</th>\n",
       "      <th>Address</th>\n",
       "      <th># Killed</th>\n",
       "      <th># Injured</th>\n",
       "    </tr>\n",
       "  </thead>\n",
       "  <tbody>\n",
       "    <tr>\n",
       "      <th>0</th>\n",
       "      <td>0</td>\n",
       "      <td>271363</td>\n",
       "      <td>December 29, 2014</td>\n",
       "      <td>Louisiana</td>\n",
       "      <td>New Orleans</td>\n",
       "      <td>Poydras and Bolivar</td>\n",
       "      <td>0</td>\n",
       "      <td>4</td>\n",
       "    </tr>\n",
       "    <tr>\n",
       "      <th>1</th>\n",
       "      <td>1</td>\n",
       "      <td>269679</td>\n",
       "      <td>December 27, 2014</td>\n",
       "      <td>California</td>\n",
       "      <td>Los Angeles</td>\n",
       "      <td>8800 block of South Figueroa Street</td>\n",
       "      <td>1</td>\n",
       "      <td>3</td>\n",
       "    </tr>\n",
       "    <tr>\n",
       "      <th>2</th>\n",
       "      <td>2</td>\n",
       "      <td>270036</td>\n",
       "      <td>December 27, 2014</td>\n",
       "      <td>California</td>\n",
       "      <td>Sacramento</td>\n",
       "      <td>4000 block of May Street</td>\n",
       "      <td>0</td>\n",
       "      <td>4</td>\n",
       "    </tr>\n",
       "    <tr>\n",
       "      <th>3</th>\n",
       "      <td>3</td>\n",
       "      <td>269167</td>\n",
       "      <td>December 26, 2014</td>\n",
       "      <td>Illinois</td>\n",
       "      <td>East St. Louis</td>\n",
       "      <td>2500 block of Summit Avenue</td>\n",
       "      <td>1</td>\n",
       "      <td>3</td>\n",
       "    </tr>\n",
       "    <tr>\n",
       "      <th>4</th>\n",
       "      <td>4</td>\n",
       "      <td>268598</td>\n",
       "      <td>December 24, 2014</td>\n",
       "      <td>Missouri</td>\n",
       "      <td>Saint Louis</td>\n",
       "      <td>18th and Pine</td>\n",
       "      <td>1</td>\n",
       "      <td>3</td>\n",
       "    </tr>\n",
       "    <tr>\n",
       "      <th>...</th>\n",
       "      <td>...</td>\n",
       "      <td>...</td>\n",
       "      <td>...</td>\n",
       "      <td>...</td>\n",
       "      <td>...</td>\n",
       "      <td>...</td>\n",
       "      <td>...</td>\n",
       "      <td>...</td>\n",
       "    </tr>\n",
       "    <tr>\n",
       "      <th>3604</th>\n",
       "      <td>3604</td>\n",
       "      <td>274867</td>\n",
       "      <td>January 6, 2015</td>\n",
       "      <td>Florida</td>\n",
       "      <td>Miami</td>\n",
       "      <td>1300 block of NW 62nd Street</td>\n",
       "      <td>1</td>\n",
       "      <td>3</td>\n",
       "    </tr>\n",
       "    <tr>\n",
       "      <th>3605</th>\n",
       "      <td>3605</td>\n",
       "      <td>273535</td>\n",
       "      <td>January 4, 2015</td>\n",
       "      <td>Virginia</td>\n",
       "      <td>Roanoke</td>\n",
       "      <td>3634 Shenandoah Ave NW</td>\n",
       "      <td>2</td>\n",
       "      <td>4</td>\n",
       "    </tr>\n",
       "    <tr>\n",
       "      <th>3606</th>\n",
       "      <td>3606</td>\n",
       "      <td>273397</td>\n",
       "      <td>January 4, 2015</td>\n",
       "      <td>Texas</td>\n",
       "      <td>Dallas</td>\n",
       "      <td>2000 block of Ben Hur St.</td>\n",
       "      <td>3</td>\n",
       "      <td>1</td>\n",
       "    </tr>\n",
       "    <tr>\n",
       "      <th>3607</th>\n",
       "      <td>3607</td>\n",
       "      <td>273965</td>\n",
       "      <td>January 2, 2015</td>\n",
       "      <td>Georgia</td>\n",
       "      <td>Savannah</td>\n",
       "      <td>500 block of W. 54th Street</td>\n",
       "      <td>1</td>\n",
       "      <td>4</td>\n",
       "    </tr>\n",
       "    <tr>\n",
       "      <th>3608</th>\n",
       "      <td>3608</td>\n",
       "      <td>272016</td>\n",
       "      <td>January 1, 2015</td>\n",
       "      <td>Tennessee</td>\n",
       "      <td>Memphis</td>\n",
       "      <td>I-240 and Poplar Ave</td>\n",
       "      <td>0</td>\n",
       "      <td>5</td>\n",
       "    </tr>\n",
       "  </tbody>\n",
       "</table>\n",
       "<p>3609 rows × 8 columns</p>\n",
       "</div>"
      ],
      "text/plain": [
       "      index  Incident ID      Incident Date       State  City Or County  \\\n",
       "0         0       271363  December 29, 2014   Louisiana     New Orleans   \n",
       "1         1       269679  December 27, 2014  California     Los Angeles   \n",
       "2         2       270036  December 27, 2014  California      Sacramento   \n",
       "3         3       269167  December 26, 2014    Illinois  East St. Louis   \n",
       "4         4       268598  December 24, 2014    Missouri     Saint Louis   \n",
       "...     ...          ...                ...         ...             ...   \n",
       "3604   3604       274867    January 6, 2015     Florida           Miami   \n",
       "3605   3605       273535    January 4, 2015    Virginia         Roanoke   \n",
       "3606   3606       273397    January 4, 2015       Texas          Dallas   \n",
       "3607   3607       273965    January 2, 2015     Georgia        Savannah   \n",
       "3608   3608       272016    January 1, 2015   Tennessee         Memphis   \n",
       "\n",
       "                                  Address  # Killed  # Injured  \n",
       "0                     Poydras and Bolivar         0          4  \n",
       "1     8800 block of South Figueroa Street         1          3  \n",
       "2                4000 block of May Street         0          4  \n",
       "3             2500 block of Summit Avenue         1          3  \n",
       "4                           18th and Pine         1          3  \n",
       "...                                   ...       ...        ...  \n",
       "3604         1300 block of NW 62nd Street         1          3  \n",
       "3605               3634 Shenandoah Ave NW         2          4  \n",
       "3606            2000 block of Ben Hur St.         3          1  \n",
       "3607          500 block of W. 54th Street         1          4  \n",
       "3608                 I-240 and Poplar Ave         0          5  \n",
       "\n",
       "[3609 rows x 8 columns]"
      ]
     },
     "execution_count": 68,
     "metadata": {},
     "output_type": "execute_result"
    }
   ],
   "source": [
    "pd.read_sql_query(\"SELECT * FROM mass_shootings\", con)"
   ]
  },
  {
   "cell_type": "code",
   "execution_count": 122,
   "metadata": {},
   "outputs": [
    {
     "data": {
      "text/html": [
       "<div>\n",
       "<style scoped>\n",
       "    .dataframe tbody tr th:only-of-type {\n",
       "        vertical-align: middle;\n",
       "    }\n",
       "\n",
       "    .dataframe tbody tr th {\n",
       "        vertical-align: top;\n",
       "    }\n",
       "\n",
       "    .dataframe thead th {\n",
       "        text-align: right;\n",
       "    }\n",
       "</style>\n",
       "<table border=\"1\" class=\"dataframe\">\n",
       "  <thead>\n",
       "    <tr style=\"text-align: right;\">\n",
       "      <th></th>\n",
       "      <th>index</th>\n",
       "      <th>incident_id</th>\n",
       "      <th>date</th>\n",
       "      <th>state</th>\n",
       "      <th>city</th>\n",
       "      <th>address</th>\n",
       "      <th>n_killed</th>\n",
       "      <th>n_injured</th>\n",
       "    </tr>\n",
       "  </thead>\n",
       "  <tbody>\n",
       "    <tr>\n",
       "      <th>0</th>\n",
       "      <td>0</td>\n",
       "      <td>271363</td>\n",
       "      <td>2014-12-29</td>\n",
       "      <td>Louisiana</td>\n",
       "      <td>New Orleans</td>\n",
       "      <td>Poydras and Bolivar</td>\n",
       "      <td>0</td>\n",
       "      <td>4</td>\n",
       "    </tr>\n",
       "    <tr>\n",
       "      <th>1</th>\n",
       "      <td>1</td>\n",
       "      <td>269679</td>\n",
       "      <td>2014-12-27</td>\n",
       "      <td>California</td>\n",
       "      <td>Los Angeles</td>\n",
       "      <td>8800 block of South Figueroa Street</td>\n",
       "      <td>1</td>\n",
       "      <td>3</td>\n",
       "    </tr>\n",
       "    <tr>\n",
       "      <th>2</th>\n",
       "      <td>2</td>\n",
       "      <td>270036</td>\n",
       "      <td>2014-12-27</td>\n",
       "      <td>California</td>\n",
       "      <td>Sacramento</td>\n",
       "      <td>4000 block of May Street</td>\n",
       "      <td>0</td>\n",
       "      <td>4</td>\n",
       "    </tr>\n",
       "    <tr>\n",
       "      <th>3</th>\n",
       "      <td>3</td>\n",
       "      <td>269167</td>\n",
       "      <td>2014-12-26</td>\n",
       "      <td>Illinois</td>\n",
       "      <td>East St. Louis</td>\n",
       "      <td>2500 block of Summit Avenue</td>\n",
       "      <td>1</td>\n",
       "      <td>3</td>\n",
       "    </tr>\n",
       "    <tr>\n",
       "      <th>4</th>\n",
       "      <td>4</td>\n",
       "      <td>268598</td>\n",
       "      <td>2014-12-24</td>\n",
       "      <td>Missouri</td>\n",
       "      <td>Saint Louis</td>\n",
       "      <td>18th and Pine</td>\n",
       "      <td>1</td>\n",
       "      <td>3</td>\n",
       "    </tr>\n",
       "    <tr>\n",
       "      <th>...</th>\n",
       "      <td>...</td>\n",
       "      <td>...</td>\n",
       "      <td>...</td>\n",
       "      <td>...</td>\n",
       "      <td>...</td>\n",
       "      <td>...</td>\n",
       "      <td>...</td>\n",
       "      <td>...</td>\n",
       "    </tr>\n",
       "    <tr>\n",
       "      <th>3604</th>\n",
       "      <td>3604</td>\n",
       "      <td>274867</td>\n",
       "      <td>2015-01-06</td>\n",
       "      <td>Florida</td>\n",
       "      <td>Miami</td>\n",
       "      <td>1300 block of NW 62nd Street</td>\n",
       "      <td>1</td>\n",
       "      <td>3</td>\n",
       "    </tr>\n",
       "    <tr>\n",
       "      <th>3605</th>\n",
       "      <td>3605</td>\n",
       "      <td>273535</td>\n",
       "      <td>2015-01-04</td>\n",
       "      <td>Virginia</td>\n",
       "      <td>Roanoke</td>\n",
       "      <td>3634 Shenandoah Ave NW</td>\n",
       "      <td>2</td>\n",
       "      <td>4</td>\n",
       "    </tr>\n",
       "    <tr>\n",
       "      <th>3606</th>\n",
       "      <td>3606</td>\n",
       "      <td>273397</td>\n",
       "      <td>2015-01-04</td>\n",
       "      <td>Texas</td>\n",
       "      <td>Dallas</td>\n",
       "      <td>2000 block of Ben Hur St.</td>\n",
       "      <td>3</td>\n",
       "      <td>1</td>\n",
       "    </tr>\n",
       "    <tr>\n",
       "      <th>3607</th>\n",
       "      <td>3607</td>\n",
       "      <td>273965</td>\n",
       "      <td>2015-01-02</td>\n",
       "      <td>Georgia</td>\n",
       "      <td>Savannah</td>\n",
       "      <td>500 block of W. 54th Street</td>\n",
       "      <td>1</td>\n",
       "      <td>4</td>\n",
       "    </tr>\n",
       "    <tr>\n",
       "      <th>3608</th>\n",
       "      <td>3608</td>\n",
       "      <td>272016</td>\n",
       "      <td>2015-01-01</td>\n",
       "      <td>Tennessee</td>\n",
       "      <td>Memphis</td>\n",
       "      <td>I-240 and Poplar Ave</td>\n",
       "      <td>0</td>\n",
       "      <td>5</td>\n",
       "    </tr>\n",
       "  </tbody>\n",
       "</table>\n",
       "<p>3609 rows × 8 columns</p>\n",
       "</div>"
      ],
      "text/plain": [
       "      index  incident_id        date       state            city  \\\n",
       "0         0       271363  2014-12-29   Louisiana     New Orleans   \n",
       "1         1       269679  2014-12-27  California     Los Angeles   \n",
       "2         2       270036  2014-12-27  California      Sacramento   \n",
       "3         3       269167  2014-12-26    Illinois  East St. Louis   \n",
       "4         4       268598  2014-12-24    Missouri     Saint Louis   \n",
       "...     ...          ...         ...         ...             ...   \n",
       "3604   3604       274867  2015-01-06     Florida           Miami   \n",
       "3605   3605       273535  2015-01-04    Virginia         Roanoke   \n",
       "3606   3606       273397  2015-01-04       Texas          Dallas   \n",
       "3607   3607       273965  2015-01-02     Georgia        Savannah   \n",
       "3608   3608       272016  2015-01-01   Tennessee         Memphis   \n",
       "\n",
       "                                  address  n_killed  n_injured  \n",
       "0                     Poydras and Bolivar         0          4  \n",
       "1     8800 block of South Figueroa Street         1          3  \n",
       "2                4000 block of May Street         0          4  \n",
       "3             2500 block of Summit Avenue         1          3  \n",
       "4                           18th and Pine         1          3  \n",
       "...                                   ...       ...        ...  \n",
       "3604         1300 block of NW 62nd Street         1          3  \n",
       "3605               3634 Shenandoah Ave NW         2          4  \n",
       "3606            2000 block of Ben Hur St.         3          1  \n",
       "3607          500 block of W. 54th Street         1          4  \n",
       "3608                 I-240 and Poplar Ave         0          5  \n",
       "\n",
       "[3609 rows x 8 columns]"
      ]
     },
     "execution_count": 122,
     "metadata": {},
     "output_type": "execute_result"
    }
   ],
   "source": [
    "#Rename columns to compare\n",
    "cursor.execute(\"ALTER TABLE mass_shootings RENAME COLUMN 'Incident ID' TO incident_id;\")\n",
    "cursor.execute(\"ALTER TABLE mass_shootings RENAME COLUMN 'Incident Date' TO date;\")\n",
    "cursor.execute(\"ALTER TABLE mass_shootings RENAME COLUMN 'State' TO state;\")\n",
    "cursor.execute(\"ALTER TABLE mass_shootings RENAME COLUMN 'City Or County' TO city;\")\n",
    "cursor.execute(\"ALTER TABLE mass_shootings RENAME COLUMN 'Address' TO address;\")\n",
    "cursor.execute(\"ALTER TABLE mass_shootings RENAME COLUMN '# Killed' TO n_killed;\")\n",
    "cursor.execute(\"ALTER TABLE mass_shootings RENAME COLUMN '# Injured' TO n_injured;\")\n",
    "pd.read_sql_query(\"SELECT * FROM mass_shootings\", con)"
   ]
  },
  {
   "cell_type": "code",
   "execution_count": 123,
   "metadata": {},
   "outputs": [],
   "source": [
    "#check if there are duplicate incident id in two tables\n",
    "query = '''\n",
    "SELECT incident_id\n",
    "FROM all_incidents\n",
    "WHERE EXISTS (\n",
    "    SELECT *\n",
    "    FROM mass_shootings\n",
    "    WHERE all_incidents.incident_id = mass_shootings.incident_id\n",
    ")\n",
    "'''\n",
    "cursor.execute(query)\n",
    "duplicate_rows = cursor.fetchall()"
   ]
  },
  {
   "cell_type": "code",
   "execution_count": null,
   "metadata": {},
   "outputs": [],
   "source": [
    "query = '''\n",
    "CREATE TABLE top_15_states AS\n",
    "SELECT state, COUNT(*) AS frequency\n",
    "FROM all_incidents\n",
    "GROUP BY state\n",
    "ORDER BY frequency DESC\n",
    "LIMIT 15\n",
    "'''\n",
    "cursor.execute(query)\n",
    "top15states = cursor.fetchall()"
   ]
  },
  {
   "cell_type": "code",
   "execution_count": 32,
   "metadata": {},
   "outputs": [],
   "source": [
    "query = '''\n",
    "CREATE TABLE top_30_cities AS\n",
    "SELECT city, COUNT(*) AS frequency\n",
    "FROM all_incidents\n",
    "GROUP BY city\n",
    "ORDER BY frequency DESC\n",
    "LIMIT 30\n",
    "'''\n",
    "cursor.execute(query)\n",
    "top30cities = cursor.fetchall()"
   ]
  },
  {
   "cell_type": "code",
   "execution_count": 35,
   "metadata": {},
   "outputs": [
    {
     "data": {
      "text/plain": [
       "<sqlite3.Cursor at 0x14a03ef10>"
      ]
     },
     "execution_count": 35,
     "metadata": {},
     "output_type": "execute_result"
    }
   ],
   "source": [
    "cursor.execute(\"ALTER TABLE top_15_states RENAME COLUMN 'frequency' TO incidents;\")\n",
    "cursor.execute(\"ALTER TABLE top_30_cities RENAME COLUMN 'frequency' TO incidents;\")"
   ]
  },
  {
   "cell_type": "code",
   "execution_count": 83,
   "metadata": {},
   "outputs": [],
   "source": [
    "top_15_states = pd.read_sql_query(\"SELECT * FROM top_15_states\", con)\n",
    "top_30_cities = pd.read_sql_query(\"SELECT * FROM top_30_cities\", con)"
   ]
  },
  {
   "cell_type": "code",
   "execution_count": 77,
   "metadata": {},
   "outputs": [
    {
     "data": {
      "text/plain": [
       "<sqlite3.Cursor at 0x14a03ef10>"
      ]
     },
     "execution_count": 77,
     "metadata": {},
     "output_type": "execute_result"
    }
   ],
   "source": [
    "#Gun violence number by year\n",
    "query = '''\n",
    "CREATE TABLE shots_year AS\n",
    "SELECT strftime('%Y', date) AS year, COUNT(*) AS incidents\n",
    "FROM all_incidents\n",
    "GROUP BY year\n",
    "ORDER BY year\n",
    "'''\n",
    "cursor.execute(query)"
   ]
  },
  {
   "cell_type": "code",
   "execution_count": 78,
   "metadata": {},
   "outputs": [],
   "source": [
    "shots_per_year = pd.read_sql_query('SELECT * FROM shots_year', con)"
   ]
  },
  {
   "cell_type": "code",
   "execution_count": 85,
   "metadata": {},
   "outputs": [
    {
     "data": {
      "text/plain": [
       "Text(0.5, 1.0, 'Number of gun violence incidents per year')"
      ]
     },
     "execution_count": 85,
     "metadata": {},
     "output_type": "execute_result"
    },
    {
     "data": {
      "image/png": "[encoded data removed]",
      "text/plain": [
       "<Figure size 640x480 with 1 Axes>"
      ]
     },
     "metadata": {},
     "output_type": "display_data"
    }
   ],
   "source": [
    "import seaborn as sns\n",
    "import matplotlib.pyplot as plt\n",
    "sns.barplot(data = shots_per_year,x = 'year', y = 'incidents')\n",
    "for p in plt.gca().patches:\n",
    "    height = int(p.get_height())  # Format the height as an integer\n",
    "    plt.gca().annotate(f'{height}', (p.get_x() + p.get_width() / 2, height),\n",
    "                       ha='center', va='bottom')\n",
    "plt.title('Number of gun violence incidents per year')"
   ]
  },
  {
   "cell_type": "code",
   "execution_count": 128,
   "metadata": {},
   "outputs": [
    {
     "data": {
      "text/plain": [
       "Text(0.5, 1.0, 'Number of mass shooting incidents per year')"
      ]
     },
     "execution_count": 128,
     "metadata": {},
     "output_type": "execute_result"
    },
    {
     "data": {
      "image/png": "[encoded data removed]",
      "text/plain": [
       "<Figure size 640x480 with 1 Axes>"
      ]
     },
     "metadata": {},
     "output_type": "display_data"
    }
   ],
   "source": [
    "sns.barplot(data = massshot_peryear,x = 'year', y = 'incidents')\n",
    "for p in plt.gca().patches:\n",
    "    height = int(p.get_height())  # Format the height as an integer\n",
    "    plt.gca().annotate(f'{height}', (p.get_x() + p.get_width() / 2, height),\n",
    "                       ha='center', va='bottom')\n",
    "plt.title('Number of mass shooting incidents per year')"
   ]
  },
  {
   "cell_type": "code",
   "execution_count": 102,
   "metadata": {},
   "outputs": [
    {
     "data": {
      "text/plain": [
       "<Figure size 6000x3000 with 0 Axes>"
      ]
     },
     "execution_count": 102,
     "metadata": {},
     "output_type": "execute_result"
    },
    {
     "data": {
      "image/png": "[encoded data removed]",
      "text/plain": [
       "<Figure size 640x480 with 1 Axes>"
      ]
     },
     "metadata": {},
     "output_type": "display_data"
    },
    {
     "data": {
      "text/plain": [
       "<Figure size 6000x3000 with 0 Axes>"
      ]
     },
     "metadata": {},
     "output_type": "display_data"
    }
   ],
   "source": [
    "sns.barplot(data = top_15_states, x = 'state', y = 'incidents')\n",
    "for p in plt.gca().patches:\n",
    "    height = int(p.get_height())  # Format the height as an integer\n",
    "    plt.gca().annotate(f'{height}', (p.get_x() + p.get_width() / 2, height),\n",
    "                       ha='center', va='bottom', rotation=45)\n",
    "plt.xticks(rotation = 90)\n",
    "plt.title('Number of gun violences by US State')\n",
    "plt.figure(figsize=(60,30))"
   ]
  },
  {
   "cell_type": "code",
   "execution_count": 100,
   "metadata": {},
   "outputs": [
    {
     "data": {
      "text/plain": [
       "<Figure size 4000x2500 with 0 Axes>"
      ]
     },
     "execution_count": 100,
     "metadata": {},
     "output_type": "execute_result"
    },
    {
     "data": {
      "image/png": "[encoded data removed]",
      "text/plain": [
       "<Figure size 640x480 with 1 Axes>"
      ]
     },
     "metadata": {},
     "output_type": "display_data"
    },
    {
     "data": {
      "text/plain": [
       "<Figure size 4000x2500 with 0 Axes>"
      ]
     },
     "metadata": {},
     "output_type": "display_data"
    }
   ],
   "source": [
    "sns.barplot(data = top_30_cities, x = 'city', y = 'incidents')\n",
    "for p in plt.gca().patches:\n",
    "    height = int(p.get_height())  # Format the height as an integer\n",
    "    plt.gca().annotate(f'{height}', (p.get_x() + p.get_width() / 2, height),\n",
    "                       ha='center', va='bottom', rotation=90)\n",
    "plt.xticks(rotation = 90)\n",
    "plt.title('Number of gun violences by US cities')\n",
    "plt.figure(figsize=(40,25))"
   ]
  },
  {
   "cell_type": "code",
   "execution_count": 126,
   "metadata": {},
   "outputs": [
    {
     "data": {
      "text/plain": [
       "[]"
      ]
     },
     "execution_count": 126,
     "metadata": {},
     "output_type": "execute_result"
    }
   ],
   "source": [
    "#Mass Shooting number by year\n",
    "query = '''\n",
    "CREATE TABLE mass_year AS\n",
    "SELECT strftime('%Y', date) AS year, COUNT(*) AS incidents\n",
    "FROM mass_shootings\n",
    "GROUP BY year\n",
    "ORDER BY year\n",
    "'''\n",
    "cursor.execute(query)"
   ]
  },
  {
   "cell_type": "code",
   "execution_count": 127,
   "metadata": {},
   "outputs": [],
   "source": [
    "massshot_peryear = pd.read_sql_query('SELECT * FROM mass_year',con)"
   ]
  },
  {
   "attachments": {},
   "cell_type": "markdown",
   "metadata": {},
   "source": [
    "Democratic vs Republican State by wisevoter.com\n",
    "\n",
    "Republican States\n",
    "1. Alabama\n",
    "2. Alaska\n",
    "3. Arkansas\n",
    "4. Idaho\n",
    "5. Indiana\n",
    "6. Iowa\n",
    "7. Kansas\n",
    "8. Kentucky\n",
    "9. Louisiana\n",
    "10. Mississippi\n",
    "11. Missouri\n",
    "12. Montana\n",
    "13. Nebraska\n",
    "14. North Dakota\n",
    "15. Oklahoma\n",
    "16. South Carolina\n",
    "17. South Dakota\n",
    "18. Tennessee\n",
    "19. Texas\n",
    "20. Utah\n",
    "21. West Virginia\n",
    "22. Wyoming\n",
    "\n",
    "Democratic States\n",
    "1. California\n",
    "2. Colorado\n",
    "3. Connecticut\n",
    "4. Delaware\n",
    "5. District of Columbia\n",
    "6. Hawaii\n",
    "7. Illinois\n",
    "8. Maine\n",
    "9. Maryland\n",
    "10. Massachusetts\n",
    "11. New Hampshire\n",
    "12. New Jersey\n",
    "13. New Mexico\n",
    "14. New York\n",
    "15. Oregon\n",
    "16. Rhode Island\n",
    "17. Vermont\n",
    "18. Virginia\n",
    "19. Washington"
   ]
  },
  {
   "cell_type": "code",
   "execution_count": null,
   "metadata": {},
   "outputs": [],
   "source": [
    "'California', 'Colorado', 'Connecticut', 'Delaware', 'District of Columbia', 'Hawaii', 'Illinois', 'Maine',\n",
    "'Maryland', 'Massachusetts', 'New Hampshire', 'New Jersey', 'New Mexico', 'New York', \n",
    "'Oregon', 'Rhode Island', 'Vermont', 'Virginia', 'Washington'"
   ]
  },
  {
   "cell_type": "code",
   "execution_count": 134,
   "metadata": {},
   "outputs": [
    {
     "data": {
      "text/plain": [
       "<sqlite3.Cursor at 0x14a03ef10>"
      ]
     },
     "execution_count": 134,
     "metadata": {},
     "output_type": "execute_result"
    }
   ],
   "source": [
    "query1 = '''\n",
    "ALTER TABLE all_incidents\n",
    "ADD COLUMN `Dem/Rep` VARCHAR(3);\n",
    "'''\n",
    "query2 = '''\n",
    "UPDATE all_incidents\n",
    "SET `Dem/Rep` = CASE\n",
    "    WHEN state IN ('California', 'Colorado', 'Connecticut', 'Delaware', 'District of Columbia', 'Hawaii', 'Illinois', 'Maine',\n",
    "'Maryland', 'Massachusetts', 'New Hampshire', 'New Jersey', 'New Mexico', 'New York', \n",
    "'Oregon', 'Rhode Island', 'Vermont', 'Virginia', 'Washington') THEN 'Dem'\n",
    "    ELSE 'Rep'\n",
    "END;\n",
    "'''\n",
    "cursor.execute(query1)\n",
    "cursor.execute(query2)"
   ]
  },
  {
   "cell_type": "code",
   "execution_count": 135,
   "metadata": {},
   "outputs": [
    {
     "data": {
      "text/plain": [
       "<sqlite3.Cursor at 0x14a03ef10>"
      ]
     },
     "execution_count": 135,
     "metadata": {},
     "output_type": "execute_result"
    }
   ],
   "source": [
    "query1 = '''\n",
    "ALTER TABLE mass_shootings\n",
    "ADD COLUMN `Dem/Rep` VARCHAR(3);\n",
    "'''\n",
    "query2 = '''\n",
    "UPDATE mass_shootings\n",
    "SET `Dem/Rep` = CASE\n",
    "    WHEN state IN ('California', 'Colorado', 'Connecticut', 'Delaware', 'District of Columbia', 'Hawaii', 'Illinois', 'Maine',\n",
    "'Maryland', 'Massachusetts', 'New Hampshire', 'New Jersey', 'New Mexico', 'New York', \n",
    "'Oregon', 'Rhode Island', 'Vermont', 'Virginia', 'Washington') THEN 'Dem'\n",
    "    ELSE 'Rep'\n",
    "END;\n",
    "'''\n",
    "cursor.execute(query1)\n",
    "cursor.execute(query2)"
   ]
  },
  {
   "cell_type": "code",
   "execution_count": 144,
   "metadata": {},
   "outputs": [
    {
     "data": {
      "text/plain": [
       "<sqlite3.Cursor at 0x14a03ef10>"
      ]
     },
     "execution_count": 144,
     "metadata": {},
     "output_type": "execute_result"
    }
   ],
   "source": [
    "query1 = '''ALTER TABLE all_incidents RENAME COLUMN 'Dem/Rep' TO Dem_Rep'''\n",
    "query2 = '''ALTER TABLE mass_shootings RENAME COLUMN 'Dem/Rep' TO Dem_Rep'''\n",
    "cursor.execute(query1)\n",
    "cursor.execute(query2)"
   ]
  },
  {
   "cell_type": "code",
   "execution_count": 146,
   "metadata": {},
   "outputs": [
    {
     "data": {
      "text/html": [
       "<div>\n",
       "<style scoped>\n",
       "    .dataframe tbody tr th:only-of-type {\n",
       "        vertical-align: middle;\n",
       "    }\n",
       "\n",
       "    .dataframe tbody tr th {\n",
       "        vertical-align: top;\n",
       "    }\n",
       "\n",
       "    .dataframe thead th {\n",
       "        text-align: right;\n",
       "    }\n",
       "</style>\n",
       "<table border=\"1\" class=\"dataframe\">\n",
       "  <thead>\n",
       "    <tr style=\"text-align: right;\">\n",
       "      <th></th>\n",
       "      <th>index</th>\n",
       "      <th>incident_id</th>\n",
       "      <th>date</th>\n",
       "      <th>state</th>\n",
       "      <th>city</th>\n",
       "      <th>address</th>\n",
       "      <th>n_killed</th>\n",
       "      <th>n_injured</th>\n",
       "      <th>Dem_Rep</th>\n",
       "    </tr>\n",
       "  </thead>\n",
       "  <tbody>\n",
       "    <tr>\n",
       "      <th>0</th>\n",
       "      <td>0</td>\n",
       "      <td>2314858</td>\n",
       "      <td>2022-05-28</td>\n",
       "      <td>Arkansas</td>\n",
       "      <td>Little Rock</td>\n",
       "      <td>W 9th St and Broadway St</td>\n",
       "      <td>0</td>\n",
       "      <td>1</td>\n",
       "      <td>Rep</td>\n",
       "    </tr>\n",
       "    <tr>\n",
       "      <th>1</th>\n",
       "      <td>1</td>\n",
       "      <td>2314409</td>\n",
       "      <td>2022-05-28</td>\n",
       "      <td>Colorado</td>\n",
       "      <td>Denver</td>\n",
       "      <td>3300 block of Clay St</td>\n",
       "      <td>0</td>\n",
       "      <td>1</td>\n",
       "      <td>Dem</td>\n",
       "    </tr>\n",
       "    <tr>\n",
       "      <th>2</th>\n",
       "      <td>2</td>\n",
       "      <td>2314498</td>\n",
       "      <td>2022-05-28</td>\n",
       "      <td>Missouri</td>\n",
       "      <td>Saint Louis</td>\n",
       "      <td>Page Blvd and Vandeventer Ave</td>\n",
       "      <td>0</td>\n",
       "      <td>1</td>\n",
       "      <td>Rep</td>\n",
       "    </tr>\n",
       "    <tr>\n",
       "      <th>3</th>\n",
       "      <td>3</td>\n",
       "      <td>2314485</td>\n",
       "      <td>2022-05-28</td>\n",
       "      <td>South Carolina</td>\n",
       "      <td>Florence</td>\n",
       "      <td>Old River Rd</td>\n",
       "      <td>0</td>\n",
       "      <td>2</td>\n",
       "      <td>Rep</td>\n",
       "    </tr>\n",
       "    <tr>\n",
       "      <th>4</th>\n",
       "      <td>4</td>\n",
       "      <td>2314483</td>\n",
       "      <td>2022-05-28</td>\n",
       "      <td>California</td>\n",
       "      <td>Carmichael</td>\n",
       "      <td>4400 block of Manzanita Ave</td>\n",
       "      <td>1</td>\n",
       "      <td>0</td>\n",
       "      <td>Dem</td>\n",
       "    </tr>\n",
       "    <tr>\n",
       "      <th>...</th>\n",
       "      <td>...</td>\n",
       "      <td>...</td>\n",
       "      <td>...</td>\n",
       "      <td>...</td>\n",
       "      <td>...</td>\n",
       "      <td>...</td>\n",
       "      <td>...</td>\n",
       "      <td>...</td>\n",
       "      <td>...</td>\n",
       "    </tr>\n",
       "    <tr>\n",
       "      <th>472815</th>\n",
       "      <td>472815</td>\n",
       "      <td>478959</td>\n",
       "      <td>2013-01-07</td>\n",
       "      <td>North Carolina</td>\n",
       "      <td>Greensboro</td>\n",
       "      <td>307 Mourning Dove Terrace</td>\n",
       "      <td>2</td>\n",
       "      <td>2</td>\n",
       "      <td>Rep</td>\n",
       "    </tr>\n",
       "    <tr>\n",
       "      <th>472816</th>\n",
       "      <td>472816</td>\n",
       "      <td>478925</td>\n",
       "      <td>2013-01-05</td>\n",
       "      <td>Colorado</td>\n",
       "      <td>Aurora</td>\n",
       "      <td>16000 block of East Ithaca Place</td>\n",
       "      <td>4</td>\n",
       "      <td>0</td>\n",
       "      <td>Dem</td>\n",
       "    </tr>\n",
       "    <tr>\n",
       "      <th>472817</th>\n",
       "      <td>472817</td>\n",
       "      <td>478855</td>\n",
       "      <td>2013-01-01</td>\n",
       "      <td>Ohio</td>\n",
       "      <td>Lorain</td>\n",
       "      <td>1776 East 28th Street</td>\n",
       "      <td>1</td>\n",
       "      <td>3</td>\n",
       "      <td>Rep</td>\n",
       "    </tr>\n",
       "    <tr>\n",
       "      <th>472818</th>\n",
       "      <td>472818</td>\n",
       "      <td>460726</td>\n",
       "      <td>2013-01-01</td>\n",
       "      <td>California</td>\n",
       "      <td>Hawthorne</td>\n",
       "      <td>13500 block of Cerise Avenue</td>\n",
       "      <td>1</td>\n",
       "      <td>3</td>\n",
       "      <td>Dem</td>\n",
       "    </tr>\n",
       "    <tr>\n",
       "      <th>472819</th>\n",
       "      <td>472819</td>\n",
       "      <td>461105</td>\n",
       "      <td>2013-01-01</td>\n",
       "      <td>Pennsylvania</td>\n",
       "      <td>Mckeesport</td>\n",
       "      <td>1506 Versailles Avenue and Coursin Street</td>\n",
       "      <td>0</td>\n",
       "      <td>4</td>\n",
       "      <td>Rep</td>\n",
       "    </tr>\n",
       "  </tbody>\n",
       "</table>\n",
       "<p>472820 rows × 9 columns</p>\n",
       "</div>"
      ],
      "text/plain": [
       "         index  incident_id        date           state         city  \\\n",
       "0            0      2314858  2022-05-28        Arkansas  Little Rock   \n",
       "1            1      2314409  2022-05-28        Colorado       Denver   \n",
       "2            2      2314498  2022-05-28        Missouri  Saint Louis   \n",
       "3            3      2314485  2022-05-28  South Carolina     Florence   \n",
       "4            4      2314483  2022-05-28      California   Carmichael   \n",
       "...        ...          ...         ...             ...          ...   \n",
       "472815  472815       478959  2013-01-07  North Carolina   Greensboro   \n",
       "472816  472816       478925  2013-01-05        Colorado       Aurora   \n",
       "472817  472817       478855  2013-01-01            Ohio       Lorain   \n",
       "472818  472818       460726  2013-01-01      California    Hawthorne   \n",
       "472819  472819       461105  2013-01-01    Pennsylvania   Mckeesport   \n",
       "\n",
       "                                          address  n_killed  n_injured Dem_Rep  \n",
       "0                        W 9th St and Broadway St         0          1     Rep  \n",
       "1                           3300 block of Clay St         0          1     Dem  \n",
       "2                   Page Blvd and Vandeventer Ave         0          1     Rep  \n",
       "3                                    Old River Rd         0          2     Rep  \n",
       "4                     4400 block of Manzanita Ave         1          0     Dem  \n",
       "...                                           ...       ...        ...     ...  \n",
       "472815                  307 Mourning Dove Terrace         2          2     Rep  \n",
       "472816           16000 block of East Ithaca Place         4          0     Dem  \n",
       "472817                      1776 East 28th Street         1          3     Rep  \n",
       "472818               13500 block of Cerise Avenue         1          3     Dem  \n",
       "472819  1506 Versailles Avenue and Coursin Street         0          4     Rep  \n",
       "\n",
       "[472820 rows x 9 columns]"
      ]
     },
     "execution_count": 146,
     "metadata": {},
     "output_type": "execute_result"
    }
   ],
   "source": [
    "pd.read_sql_query('SELECT * FROM all_incidents',con)"
   ]
  },
  {
   "cell_type": "code",
   "execution_count": 149,
   "metadata": {},
   "outputs": [
    {
     "data": {
      "text/plain": [
       "<sqlite3.Cursor at 0x14a03ef10>"
      ]
     },
     "execution_count": 149,
     "metadata": {},
     "output_type": "execute_result"
    }
   ],
   "source": [
    "query = '''\n",
    "CREATE TABLE politic_all AS\n",
    "SELECT Dem_Rep, SUM(n_killed) AS killed, SUM(n_injured) AS injured, COUNT(*) AS incidents\n",
    "FROM all_incidents\n",
    "GROUP BY Dem_Rep\n",
    "ORDER BY incidents DESC\n",
    "'''\n",
    "cursor.execute(query)"
   ]
  },
  {
   "cell_type": "code",
   "execution_count": 151,
   "metadata": {},
   "outputs": [
    {
     "data": {
      "text/plain": [
       "<sqlite3.Cursor at 0x14a03ef10>"
      ]
     },
     "execution_count": 151,
     "metadata": {},
     "output_type": "execute_result"
    }
   ],
   "source": [
    "query = '''\n",
    "CREATE TABLE politic_mass AS\n",
    "SELECT Dem_Rep, SUM(n_killed) AS killed, SUM(n_injured) AS injured, COUNT(*) AS incidents\n",
    "FROM mass_shootings\n",
    "GROUP BY Dem_Rep\n",
    "ORDER BY incidents DESC\n",
    "'''\n",
    "cursor.execute(query)"
   ]
  },
  {
   "cell_type": "code",
   "execution_count": 176,
   "metadata": {},
   "outputs": [],
   "source": [
    "pol_all = pd.read_sql_query('SELECT * FROM politic_all',con)\n",
    "mass_all = pd.read_sql_query('SELECT * FROM politic_mass',con)\n",
    "pol_all = pol_all.melt(id_vars='Dem_Rep')\n",
    "mass_all = mass_all.melt(id_vars='Dem_Rep')"
   ]
  },
  {
   "cell_type": "code",
   "execution_count": 181,
   "metadata": {},
   "outputs": [
    {
     "data": {
      "text/plain": [
       "<Figure size 4000x2500 with 0 Axes>"
      ]
     },
     "execution_count": 181,
     "metadata": {},
     "output_type": "execute_result"
    },
    {
     "data": {
      "image/png": "[encoded data removed]",
      "text/plain": [
       "<Figure size 582.75x500 with 1 Axes>"
      ]
     },
     "metadata": {},
     "output_type": "display_data"
    },
    {
     "data": {
      "text/plain": [
       "<Figure size 4000x2500 with 0 Axes>"
      ]
     },
     "metadata": {},
     "output_type": "display_data"
    }
   ],
   "source": [
    "sns.catplot(data=pol_all, x = 'variable', y = 'value', hue='Dem_Rep',kind='bar')\n",
    "for p in plt.gca().patches:\n",
    "    height = int(p.get_height())  # Format the height as an integer\n",
    "    plt.gca().annotate(f'{height}', (p.get_x() + p.get_width() / 2, height),\n",
    "                       ha='center', va='bottom', rotation=0)\n",
    "plt.xticks(rotation = 0)\n",
    "plt.xlabel('')\n",
    "plt.ylabel('count')\n",
    "plt.title('Number of gun violences by politic preference')\n",
    "plt.figure(figsize=(40,25))"
   ]
  },
  {
   "cell_type": "code",
   "execution_count": 182,
   "metadata": {},
   "outputs": [
    {
     "data": {
      "text/plain": [
       "<Figure size 4000x2500 with 0 Axes>"
      ]
     },
     "execution_count": 182,
     "metadata": {},
     "output_type": "execute_result"
    },
    {
     "data": {
      "image/png": "[encoded data removed]",
      "text/plain": [
       "<Figure size 582.75x500 with 1 Axes>"
      ]
     },
     "metadata": {},
     "output_type": "display_data"
    },
    {
     "data": {
      "text/plain": [
       "<Figure size 4000x2500 with 0 Axes>"
      ]
     },
     "metadata": {},
     "output_type": "display_data"
    }
   ],
   "source": [
    "sns.catplot(data=mass_all, x = 'variable', y = 'value', hue='Dem_Rep',kind='bar')\n",
    "for p in plt.gca().patches:\n",
    "    height = int(p.get_height())  # Format the height as an integer\n",
    "    plt.gca().annotate(f'{height}', (p.get_x() + p.get_width() / 2, height),\n",
    "                       ha='center', va='bottom', rotation=0)\n",
    "plt.xticks(rotation = 0)\n",
    "plt.xlabel('')\n",
    "plt.ylabel('count')\n",
    "plt.title('Number of mass shootings by politic preference')\n",
    "plt.figure(figsize=(40,25))"
   ]
  },
  {
   "cell_type": "code",
   "execution_count": 184,
   "metadata": {},
   "outputs": [],
   "source": [
    "con.commit()\n",
    "con.close()"
   ]
  },
  {
   "cell_type": "code",
   "execution_count": null,
   "metadata": {},
   "outputs": [],
   "source": []
  }
 ],
 "metadata": {
  "kernelspec": {
   "display_name": "tf-metal",
   "language": "python",
   "name": "python3"
  },
  "language_info": {
   "codemirror_mode": {
    "name": "ipython",
    "version": 3
   },
   "file_extension": ".py",
   "mimetype": "text/x-python",
   "name": "python",
   "nbconvert_exporter": "python",
   "pygments_lexer": "ipython3",
   "version": "3.9.16"
  },
  "orig_nbformat": 4
 },
 "nbformat": 4,
 "nbformat_minor": 2
}
